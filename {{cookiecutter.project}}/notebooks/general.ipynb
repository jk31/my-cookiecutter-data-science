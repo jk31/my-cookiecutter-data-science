{
 "cells": [
  {
   "cell_type": "markdown",
   "metadata": {},
   "source": [
    "# {{cookiecutter.project}} - General Notebook"
   ]
  },
  {
   "cell_type": "markdown",
   "metadata": {},
   "source": [
    "## Goals"
   ]
  },
  {
   "cell_type": "markdown",
   "metadata": {},
   "source": [
    "The main goal of the project is to..."
   ]
  },
  {
   "cell_type": "markdown",
   "metadata": {},
   "source": [
    "## Imports"
   ]
  },
  {
   "cell_type": "code",
   "execution_count": null,
   "metadata": {},
   "outputs": [],
   "source": [
    "import os \n",
    "import re\n",
    "\n",
    "import time\n",
    "import datetime\n",
    "\n",
    "import numpy as np\n",
    "import pandas as pd\n",
    "\n",
    "from pandas_profiling import ProfileReport\n",
    "\n",
    "import matplotlib as mpl\n",
    "import matplotlib.pyplot as plt\n",
    "\n",
    "import seaborn as sns\n",
    "import altair as at"
   ]
  },
  {
   "cell_type": "markdown",
   "metadata": {},
   "source": [
    "## Helper Methods"
   ]
  },
  {
   "cell_type": "code",
   "execution_count": null,
   "metadata": {},
   "outputs": [],
   "source": [
    "def timestamp():\n",
    "    time = f\"{datetime.datetime.now().date()}--{datetime.datetime.now().time().replace(microsecond=0)}\"\n",
    "    return time.replace(\":\", \"-\")"
   ]
  },
  {
   "cell_type": "markdown",
   "metadata": {},
   "source": [
    "## Data Import"
   ]
  },
  {
   "cell_type": "markdown",
   "metadata": {},
   "source": [
    "### Variables Meaning\n",
    "| Name        | Meaning           | Note  |\n",
    "| ------------- |-------------| -----|\n",
    "| name     | meaning | note |"
   ]
  },
  {
   "cell_type": "code",
   "execution_count": null,
   "metadata": {},
   "outputs": [],
   "source": [
    "df = pd.read_csv(\"../data/.csv\")\n",
    "df = pd.read_excel('../data/.xlsx', index_col=None, header=0) "
   ]
  },
  {
   "cell_type": "markdown",
   "metadata": {},
   "source": [
    "## Data Export"
   ]
  },
  {
   "cell_type": "code",
   "execution_count": null,
   "metadata": {},
   "outputs": [],
   "source": [
    "pd\n",
    "pd.to_excel(\"file.xlsx\")"
   ]
  },
  {
   "cell_type": "markdown",
   "metadata": {},
   "source": [
    "## Data Exploration"
   ]
  },
  {
   "cell_type": "code",
   "execution_count": null,
   "metadata": {},
   "outputs": [],
   "source": [
    "df.info()"
   ]
  },
  {
   "cell_type": "code",
   "execution_count": null,
   "metadata": {},
   "outputs": [],
   "source": [
    "df.header()"
   ]
  },
  {
   "cell_type": "code",
   "execution_count": null,
   "metadata": {},
   "outputs": [],
   "source": [
    "df.dtypes"
   ]
  },
  {
   "cell_type": "code",
   "execution_count": null,
   "metadata": {},
   "outputs": [],
   "source": [
    "df.describe()"
   ]
  },
  {
   "cell_type": "code",
   "execution_count": null,
   "metadata": {},
   "outputs": [],
   "source": [
    "df[\"a\"].value_counts()"
   ]
  },
  {
   "cell_type": "code",
   "execution_count": null,
   "metadata": {},
   "outputs": [],
   "source": [
    "pd.crosstab(df[\"a\"], df[\"b\"])"
   ]
  },
  {
   "cell_type": "code",
   "execution_count": null,
   "metadata": {},
   "outputs": [],
   "source": [
    "profile = ProfileReport(df, title='Pandas Profiling Report', explorative=True)\n",
    "profile.to_file(\"../reports/profile.html\")"
   ]
  },
  {
   "cell_type": "code",
   "execution_count": null,
   "metadata": {},
   "outputs": [],
   "source": [
    "!start ../reports/profile.html"
   ]
  },
  {
   "cell_type": "markdown",
   "metadata": {},
   "source": [
    "## Data Preperation"
   ]
  },
  {
   "cell_type": "code",
   "execution_count": null,
   "metadata": {},
   "outputs": [],
   "source": [
    "df = df.dropna()\n",
    "df = df[df.[\"a\"].notnull()]\n",
    "df = df.dropna(axis=\"columns\")\n",
    "\n",
    "df = df.rename(columns={'ColumnA': 'SomeOtherName'})\n",
    "\n",
    "df = df[\"a\"].replace(1, 2)\n",
    "df = df[df.[\"a\"] == 1]\n",
    "df = df[(df.[\"a\"] >= 1) & (df.[\"b\"] >= 1)]\n",
    "\n",
    "df[\"a\"] = df.apply(lambda x: 1 if x[\"b\"] > 0 else 0, axis=1)\n",
    "df[\"a\"] = np.where(df[\"a\"].isin([\"a\", \"b\"]), 1, 0)\n",
    "df = df.assign(b=lambda x: a * 2)\n",
    "\n",
    "df[\"a\"], df[\"b\"] = df1[\"c\"].str.split(\"-\").str"
   ]
  },
  {
   "cell_type": "markdown",
   "metadata": {},
   "source": [
    "## Data Visualization"
   ]
  },
  {
   "cell_type": "code",
   "execution_count": null,
   "metadata": {},
   "outputs": [],
   "source": [
    "df.corr().style.background_gradient(cmap='coolwarm')"
   ]
  },
  {
   "cell_type": "code",
   "execution_count": null,
   "metadata": {},
   "outputs": [],
   "source": [
    "# https://seaborn.pydata.org/examples/index.html\n",
    "\n",
    "plt.figure(figsize=(16,9))\n",
    "plt.xticks(rotation=90)\n",
    "sns.boxplot(x=\"a\", y=\"b\", data=df)"
   ]
  },
  {
   "cell_type": "code",
   "execution_count": null,
   "metadata": {},
   "outputs": [],
   "source": [
    "plt.figure(figsize=(16,9))\n",
    "sns.regplot(x=\"a\", y=\"b\", data=df, scatter_kws={'alpha':0.05})"
   ]
  },
  {
   "cell_type": "code",
   "execution_count": null,
   "metadata": {},
   "outputs": [],
   "source": [
    "facegrid = sns.FacetGrid(df, col=\"manufacturer\", col_wrap=5)\n",
    "facegrid.map(plt.scatter, \"year\", \"price\")"
   ]
  },
  {
   "cell_type": "code",
   "execution_count": null,
   "metadata": {},
   "outputs": [],
   "source": [
    "# https://altair-viz.github.io/gallery/index.html\n",
    "\n",
    "alt.Chart(df).mark_circle(size=60).encode(\n",
    "    x='x:O',\n",
    "    y='y:Q',\n",
    "    color='c',\n",
    "    tooltip=['a', 'x', 'y', 'x', 'Miles_per_Gallon']\n",
    ").interactive()"
   ]
  },
  {
   "cell_type": "markdown",
   "metadata": {},
   "source": [
    "## Modeling: Statsmodels"
   ]
  },
  {
   "cell_type": "code",
   "execution_count": null,
   "metadata": {},
   "outputs": [],
   "source": []
  },
  {
   "cell_type": "markdown",
   "metadata": {},
   "source": [
    "## Modeling: scikit-learn"
   ]
  },
  {
   "cell_type": "markdown",
   "metadata": {},
   "source": [
    "#### Data Split"
   ]
  },
  {
   "cell_type": "code",
   "execution_count": null,
   "metadata": {},
   "outputs": [],
   "source": [
    "from sklearn.model_selection import train_test_split\n",
    "\n",
    "df_model = df.drop(columns=[])\n",
    "df_model = pd.get_dummies(df_model)\n",
    "\n",
    "X_train, X_test, y_train, y_test = train_test_split(\n",
    "    df_model.drop(\"y\", axis=1),\n",
    "    df_model[\"y\"],\n",
    "    test_size=0.2,\n",
    "    random_state=42)\n",
    "\n",
    "# Show the shapes of each split\n",
    "print(x_df_train.shape)\n",
    "print(x_df_test.shape)\n",
    "print(y_df_train.shape)\n",
    "print(y_df_test.shape)"
   ]
  },
  {
   "cell_type": "code",
   "execution_count": null,
   "metadata": {},
   "outputs": [],
   "source": [
    "from sklearn.linear_model import LinearRegression\n",
    "from sklearn.linear_model import Ridge\n",
    "from sklearn.linear_model import Lasso\n",
    "\n",
    "from sklearn.metrics import mean_squared_error"
   ]
  },
  {
   "cell_type": "markdown",
   "metadata": {},
   "source": [
    "#### Training and Hyperparameter Tuning"
   ]
  },
  {
   "cell_type": "code",
   "execution_count": null,
   "metadata": {},
   "outputs": [],
   "source": [
    "sklearnOLS = LinearRegression()\n",
    "sklearnOLS.fit(X_train, y_train)\n",
    "\n",
    "y_train_pred = sklearnOLS.predict(X_train)\n",
    "y_test_pred = sklearnOLS.predict(X_test)\n",
    "\n",
    "print(f'Training set error:\\n{math.sqrt(mean_squared_error(y_train, y_train_pred))}')\n",
    "print(f'Test set error:\\n{math.sqrt(mean_squared_error(y_test, y_test_pred))}')"
   ]
  },
  {
   "cell_type": "code",
   "execution_count": null,
   "metadata": {},
   "outputs": [],
   "source": [
    "from sklearn.model_selection import GridSearchCV\n",
    "\n",
    "parameters = {\"alpha\" : list(np.append(np.arange(0, 1, 0.05),  np.arange(1, 21))),\n",
    "            \"fit_intercept\" : [True, False],\n",
    "            \"normalize\": [True],\n",
    "            }\n",
    "\n",
    "searchCV = GridSearchCV(Ridge(), \n",
    "                        parameters, \n",
    "                        cv=2,\n",
    "                        n_jobs=-1,\n",
    "                        verbose=10)\n",
    "\n",
    "searchCV = searchCV.fit(X_train, y_train)\n",
    "\n",
    "y_test_pred = searchCV.best_estimator_.predict(X_test)\n",
    "\n",
    "print(\"The best model: \", searchCV.best_estimator_)\n",
    "print(f'Test set error:\\n{math.sqrt(mean_squared_error(y_test, y_test_pred))}')"
   ]
  },
  {
   "cell_type": "markdown",
   "metadata": {},
   "source": [
    "#### Save Model"
   ]
  },
  {
   "cell_type": "markdown",
   "metadata": {},
   "source": [
    "## Modeling: Tensorflow2"
   ]
  },
  {
   "cell_type": "code",
   "execution_count": null,
   "metadata": {},
   "outputs": [],
   "source": []
  }
 ],
 "metadata": {
  "kernelspec": {
   "display_name": "Python 3",
   "language": "python",
   "name": "python3"
  },
  "language_info": {
   "codemirror_mode": {
    "name": "ipython",
    "version": 3
   },
   "file_extension": ".py",
   "mimetype": "text/x-python",
   "name": "python",
   "nbconvert_exporter": "python",
   "pygments_lexer": "ipython3",
   "version": "3.7.7"
  }
 },
 "nbformat": 4,
 "nbformat_minor": 4
}
